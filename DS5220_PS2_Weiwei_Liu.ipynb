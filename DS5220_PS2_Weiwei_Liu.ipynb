{
 "cells": [
  {
   "cell_type": "markdown",
   "metadata": {},
   "source": [
    "# DS 5220 Problem Set 2: Classification (Spring 2021)\n",
    "**Instructor:** Roi Yehoshua\n",
    "<br>\n",
    "**Student name:** Weiwei Liu (001404153)\n",
    "<br>"
   ]
  },
  {
   "cell_type": "markdown",
   "metadata": {},
   "source": [
    "## 1. k-Nearest Neighbors (KNN)"
   ]
  },
  {
   "cell_type": "markdown",
   "metadata": {},
   "source": [
    "Manhattan Distance can be calculated with the formula \n",
    "\n",
    "$d(\\mathrm{x}, \\mathrm{y})=\\displaystyle\\sum_{j=1}^{d} |x_j - y_j|$\n",
    "\n",
    "Consequently, \n",
    "\n",
    "$\n",
    "\\begin{align}\n",
    "d(\\mathrm{x}, \\mathrm{x_1}) &= |1-1| + |0-4| + |1-1| \\\\\n",
    "&= 0 + 4 + 0 \\\\\n",
    "&= 4\\\\\n",
    "d(\\mathrm{x}, \\mathrm{x_2}) &= |1-1| + |0-2| + |1-3| \\\\\n",
    "&= 0 + 2 + 2 \\\\\n",
    "&= 4\\\\\n",
    "d(\\mathrm{x}, \\mathrm{x_3}) &= |1-0| + |0-0| + |1-1| \\\\\n",
    "&= 1 + 0 + 0 \\\\\n",
    "&= 1\\\\\n",
    "d(\\mathrm{x}, \\mathrm{x_4}) &= |1-(-1)| + |0-4| + |1-0| \\\\\n",
    "&= 2 + 4 + 1 \\\\\n",
    "&= 7\\\\\n",
    "d(\\mathrm{x}, \\mathrm{x_5}) &= |1-1| + |0-0| + |1-(-2)| \\\\\n",
    "&= 0 + 0 + 3 \\\\\n",
    "&= 3\\\\\n",
    "d(\\mathrm{x}, \\mathrm{x_6}) &= |1-(-1)| + |0-(-1)| + |1-1| \\\\\n",
    "&= 2 + 1 + 0 \\\\\n",
    "&= 3\\\\\n",
    "d(\\mathrm{x}, \\mathrm{x_7}) &= |1-0| + |0-(-4)| + |1-0| \\\\\n",
    "&= 1 + 4 + 1 \\\\\n",
    "&= 6\\\\\n",
    "d(\\mathrm{x}, \\mathrm{x_8}) &= |1-1| + |0-0| + |1-(-3)| \\\\\n",
    "&= 0 + 0 + 4 \\\\\n",
    "&= 4\n",
    "\\end{align}\n",
    "$"
   ]
  },
  {
   "cell_type": "markdown",
   "metadata": {},
   "source": [
    "Since $k=3$, we select the 3 points with the nearest Manhattan Distance value into the training sample set $D$: ${\\mathrm{x_3}, \\mathrm{x_5}, \\mathrm{x_6} }$. \n",
    "\n",
    "Then, we can predict the label $y$ of $\\mathrm{x}$: \n",
    "\n",
    "$\n",
    "y_\\mathrm{x} = \\mathrm{argmax}_v \\sum_{(\\mathrm{x_i}, y_i)\\in D}^{ } \\mathbb{1} \\{y_i =v\\} =0\n",
    "$\n",
    "\n",
    "because labels of $\\mathrm{x_5}$ and $\\mathrm{x_6}$ are $0$, and the label of $\\mathrm{x_6}$ is $1$."
   ]
  },
  {
   "cell_type": "markdown",
   "metadata": {},
   "source": [
    "## 2. Naive Bayes Classification"
   ]
  },
  {
   "cell_type": "markdown",
   "metadata": {},
   "source": [
    "**Prior Probabilities:**\n",
    "\n",
    "$\n",
    "P(\\textrm{buy_computer} = \\textrm{yes}) = 9/14 = 0.6429\\\\\n",
    "\\\\\n",
    "P(\\textrm{buy_computer} = \\textrm{no}) = 5/14 = 0.3571\n",
    "$"
   ]
  },
  {
   "cell_type": "markdown",
   "metadata": {},
   "source": [
    "**Conditional Probabilities of Features:**\n",
    "\n",
    "$\n",
    "P(\\textrm{age} = \\textrm{youth}|\\textrm{buy_computer} = \\textrm{yes}) = 2/9 = 0.2222\\\\\n",
    "P(\\textrm{age} = \\textrm{youth}|\\textrm{buy_computer} = \\textrm{no}) = 3/5 = 0.6\\\\\n",
    "$\n",
    "\n",
    "$\n",
    "P(\\textrm{income} = \\textrm{medium}|\\textrm{buy_computer} = \\textrm{yes}) = 4/9 = 0.4444\\\\\n",
    "P(\\textrm{income} = \\textrm{medium}|\\textrm{buy_computer} = \\textrm{no}) = 2/5 = 0.4\\\\\n",
    "$\n",
    "\n",
    "$\n",
    "P(\\textrm{student} = \\textrm{yes}|\\textrm{buy_computer} = \\textrm{yes}) = 6/9 = 0.6667\\\\\n",
    "P(\\textrm{student} = \\textrm{yes}|\\textrm{buy_computer} = \\textrm{no}) = 1/5 = 0.2\\\\\n",
    "$\n",
    "\n",
    "$\n",
    "P(\\textrm{credit_rating} = \\textrm{fair}|\\textrm{buy_computer} = \\textrm{yes}) = 6/9 = 0.6667\\\\\n",
    "P(\\textrm{credit_rating} = \\textrm{fair}|\\textrm{buy_computer} = \\textrm{no}) = 2/5 = 0.4\\\\\n",
    "$"
   ]
  },
  {
   "cell_type": "markdown",
   "metadata": {},
   "source": [
    "**Posterior Probabilities:**\n",
    "\n",
    "$\n",
    "\\begin{align}\n",
    "P(\\textrm{yes}|\\mathbf{x}) &= \\alpha P(\\textrm{yes}) P(\\textrm{age} = \\textrm{youth}|\\textrm{yes}) P(\\textrm{income} = \\textrm{medium}|\\textrm{yes}) P(\\textrm{student} = \\textrm{yes}|\\textrm{yes}) P(\\textrm{credit_rating} = \\textrm{fair}|\\textrm{yes})\\\\\n",
    "&= \\alpha \\cdot 0.6429 \\cdot 0.2222 \\cdot 0.4444 \\cdot 0.6667 \\cdot 0.6667\\\\\n",
    "&= \\alpha \\cdot 0.0282\\\\\n",
    "\\end{align}\n",
    "$\n",
    "\n",
    "$\n",
    "\\begin{align}\n",
    "P(\\textrm{no}|\\mathbf{x}) &= \\alpha P(\\textrm{no}) P(\\textrm{age} = \\textrm{youth}|\\textrm{no}) P(\\textrm{income} = \\textrm{medium}|\\textrm{no}) P(\\textrm{student} = \\textrm{yes}|\\textrm{no}) P(\\textrm{credit_rating} = \\textrm{fair}|\\textrm{no})\\\\\n",
    "&= \\alpha \\cdot 0.3571 \\cdot 0.6 \\cdot 0.4 \\cdot 0.2 \\cdot 0.4\\\\\n",
    "&= \\alpha \\cdot 0.0069\\\\\n",
    "\\end{align}\n",
    "$"
   ]
  },
  {
   "cell_type": "markdown",
   "metadata": {},
   "source": [
    "Since $P(\\textrm{yes}|\\mathbf{x}) = \\alpha \\cdot 0.0282 > \\alpha \\cdot 0.0069 = P(\\textrm{no}|\\mathbf{x})$, the customer specified by the event $\\mathbf{x}$ will buy a computer. "
   ]
  },
  {
   "cell_type": "markdown",
   "metadata": {},
   "source": [
    "## 3. Classification Metrics"
   ]
  },
  {
   "cell_type": "markdown",
   "metadata": {},
   "source": [
    "### (1) False Positives and False Negatives: \n",
    "\n",
    "False Positives: 3; False Negatives: 1"
   ]
  },
  {
   "cell_type": "markdown",
   "metadata": {},
   "source": [
    "### (2) Accuracy: \n",
    "\n",
    "$\n",
    "\\begin{align}\n",
    "\\textrm{Accuracy } &= \\frac{\\textrm{True Positives}+\\textrm{True Negatives}}{\\textrm{Total Test Number}}\\\\\n",
    "\\\\\n",
    "&= \\frac{33+72}{33+3+1+72}\\\\\n",
    "\\\\\n",
    "&= \\frac{105}{109}\\\\\n",
    "\\\\\n",
    "&= 0.9633\n",
    "\\end{align}\n",
    "$"
   ]
  },
  {
   "cell_type": "markdown",
   "metadata": {},
   "source": [
    "### (3) Precision and Recall: \n",
    "\n",
    "$\n",
    "\\begin{align}\n",
    "\\textrm{Precision } &= \\frac{\\textrm{True Positives}}{\\textrm{True Positives}+\\textrm{False Positives}}\\\\\n",
    "\\\\\n",
    "&= \\frac{33}{33+3}\\\\\n",
    "\\\\\n",
    "&= \\frac{33}{36}\\\\\n",
    "\\\\\n",
    "&= 0.9167\\\\\n",
    "\\end{align}\n",
    "$"
   ]
  },
  {
   "cell_type": "markdown",
   "metadata": {},
   "source": [
    "$\n",
    "\\begin{align}\n",
    "\\textrm{Recall } &= \\frac{\\textrm{True Positives}}{\\textrm{True Positives}+\\textrm{False Negatives}}\\\\\n",
    "\\\\\n",
    "&= \\frac{33}{33+1}\\\\\n",
    "\\\\\n",
    "&= \\frac{33}{34}\\\\\n",
    "\\\\\n",
    "&= 0.9706\n",
    "\\end{align}\n",
    "$"
   ]
  },
  {
   "cell_type": "markdown",
   "metadata": {},
   "source": [
    "\n",
    "### (4) $F_1$ Score: \n",
    "\n",
    "$\n",
    "\\begin{align}\n",
    "F_1 &= 2 \\cdot \\frac{\\textrm{Precision} \\cdot \\textrm{Recall}}{\\textrm{Precision} + \\textrm{Recall}}\\\\\n",
    "\\\\\n",
    "&= \\frac{\\textrm{True Positives}}{\\textrm{True Positives} + \\frac{1}{2} \\cdot (\\textrm{False Positives}+\\textrm{False Negatives})}\\\\\n",
    "\\\\\n",
    "&= \\frac{33}{33+\\frac{1}{2} \\cdot (3+1)}\\\\\n",
    "\\\\\n",
    "&= \\frac{33}{35}\\\\\n",
    "\\\\\n",
    "&= 0.9429\n",
    "\\end{align}\n",
    "$"
   ]
  },
  {
   "cell_type": "markdown",
   "metadata": {},
   "source": [
    "### (5) Evaluation Explaination:\n",
    "\n",
    "According to the definition of ***Presicion*** and ***Recall***, we can know about the truth that: ***Presicion*** is the rate explaining how many predicted positives are correct, and ***Recall*** is the rate explaining how many positives can be correctly detected. \n",
    "\n",
    "Considering the severity of COVID-19 Pandemic, it's important for us to find out all infected patients and to take medical quarantines for the minimized infection influences towards other people. During this process, quarantines towards any uninfected suspect patients who are wrongly tested positive are resonable sacrifices. Consequently, ***Recall*** has higher priority than ***Precision***, and we'd love to see the test-kit with 100% ***Recall*** while its ***Precision*** has a little loss."
   ]
  },
  {
   "cell_type": "markdown",
   "metadata": {},
   "source": [
    "## 4. Spam Filter"
   ]
  },
  {
   "cell_type": "code",
   "execution_count": 1,
   "metadata": {},
   "outputs": [],
   "source": [
    "# Import packages\n",
    "\n",
    "import warnings\n",
    "warnings.filterwarnings(\"ignore\")\n",
    "\n",
    "import email\n",
    "import re\n",
    "import string\n",
    "import nltk\n",
    "\n",
    "import pandas as pd\n",
    "import numpy as np\n",
    "import seaborn as sn\n",
    "import matplotlib.pyplot as plt\n",
    "\n",
    "from bs4 import BeautifulSoup\n",
    "\n",
    "from os import listdir\n",
    "from os.path import isfile, join\n",
    "\n",
    "from nltk.corpus import stopwords\n",
    "from nltk.stem.porter import PorterStemmer \n",
    "from nltk.stem import WordNetLemmatizer \n",
    "from nltk.tokenize import word_tokenize\n",
    "\n",
    "from sklearn.model_selection import train_test_split\n",
    "from sklearn.naive_bayes import MultinomialNB\n",
    "from sklearn.neighbors import KNeighborsClassifier\n",
    "from sklearn.linear_model import LogisticRegression\n",
    "\n",
    "from sklearn.feature_extraction.text import (\n",
    "    TfidfVectorizer, \n",
    "    CountVectorizer)\n",
    "\n",
    "from sklearn.metrics import (\n",
    "    confusion_matrix, \n",
    "    plot_confusion_matrix, \n",
    "    recall_score, \n",
    "    precision_score)"
   ]
  },
  {
   "cell_type": "markdown",
   "metadata": {},
   "source": [
    "### (1) Import mail data: \n",
    "The data import steps are as follows: \n",
    "1. Build up a function to parse mail file with the return of a tuple composing with subject and body\n",
    "1. Import ham and spam mails respectively with for loop\n",
    "1. Merge ham and spam mails together for futher modeling"
   ]
  },
  {
   "cell_type": "code",
   "execution_count": 3,
   "metadata": {},
   "outputs": [],
   "source": [
    "# Function for parsing mails (Provided by the instructor Roi Yehoshua)\n",
    "def parse_email(file_path):\n",
    "    with open(file_path, 'rb') as f:\n",
    "        msg = email.message_from_bytes(f.read())\n",
    "        \n",
    "    # Get email headers\n",
    "    subject = msg.get('Subject')\n",
    "    \n",
    "    # Read email body\n",
    "    body = str(msg.get_payload())\n",
    "    \n",
    "    # Remove HTML tags\n",
    "    body = BeautifulSoup(body).get_text()\n",
    "    \n",
    "    return subject, body"
   ]
  },
  {
   "cell_type": "code",
   "execution_count": 4,
   "metadata": {},
   "outputs": [],
   "source": [
    "# Import mails labelled as \"Ham\"\n",
    "ham_mail_name = [f for f in listdir('easy_ham/') if isfile(join('easy_ham/', f))]\n",
    "\n",
    "ham_mail = []\n",
    "\n",
    "for i in ham_mail_name:\n",
    "    ham_mail.append(parse_email('easy_ham/' + i))\n",
    "    \n",
    "del ham_mail[-1]\n",
    "ham_label = [0] * len(ham_mail)"
   ]
  },
  {
   "cell_type": "code",
   "execution_count": 5,
   "metadata": {},
   "outputs": [],
   "source": [
    "# Import mails labelled as \"Spam\"\n",
    "spam_mail_name = [f for f in listdir('spam/') if isfile(join('spam/', f))]\n",
    "\n",
    "spam_mail = []\n",
    "\n",
    "for i in spam_mail_name:\n",
    "    spam_mail.append(parse_email('spam/' + i))\n",
    "    \n",
    "del spam_mail[-1]\n",
    "spam_label = [1] * len(spam_mail)"
   ]
  },
  {
   "cell_type": "code",
   "execution_count": 6,
   "metadata": {},
   "outputs": [
    {
     "data": {
      "text/plain": [
       "['Re: New Sequences Window Date:        Wed, 21 Aug 2002 10:54:46 -0500\\n    From:        Chris Garrigues \\n    Message-ID:  <1029945287.4797.TMDA@deepeddy.vircio.com>\\n\\n\\n  | I can\\'t reproduce this error.\\n\\nFor me it is very repeatable... (like every time, without fail).\\n\\nThis is the debug log of the pick happening ...\\n\\n18:19:03 Pick_It {exec pick +inbox -list -lbrace -lbrace -subject ftp -rbrace -rbrace} {4852-4852 -sequence mercury}\\n18:19:03 exec pick +inbox -list -lbrace -lbrace -subject ftp -rbrace -rbrace 4852-4852 -sequence mercury\\n18:19:04 Ftoc_PickMsgs {{1 hit}}\\n18:19:04 Marking 1 hits\\n18:19:04 tkerror: syntax error in expression \"int ...\\n\\nNote, if I run the pick command by hand ...\\n\\ndelta$ pick +inbox -list -lbrace -lbrace -subject ftp -rbrace -rbrace  4852-4852 -sequence mercury\\n1 hit\\n\\nThat\\'s where the \"1 hit\" comes from (obviously).  The version of nmh I\\'m\\nusing is ...\\n\\ndelta$ pick -version\\npick -- nmh-1.0.4 [compiled on fuchsia.cs.mu.OZ.AU at Sun Mar 17 14:55:56 ICT 2002]\\n\\nAnd the relevant part of my .mh_profile ...\\n\\ndelta$ mhparam pick\\n-seq sel -list\\n\\n\\nSince the pick command works, the sequence (actually, both of them, the\\none that\\'s explicit on the command line, from the search popup, and the\\none that comes from .mh_profile) do get created.\\n\\nkre\\n\\nps: this is still using the version of the code form a day ago, I haven\\'t\\nbeen able to reach the cvs repository today (local routing issue I think).\\n\\n\\n\\n_______________________________________________\\nExmh-workers mailing list\\nExmh-workers@redhat.com\\nhttps://listman.redhat.com/mailman/listinfo/exmh-workers\\n\\n',\n",
       " \"[zzzzteana] RE: Alexander Martin A posted:\\nTassos Papadopoulos, the Greek sculptor behind the plan, judged that the\\n limestone of Mount Kerdylio, 70 miles east of Salonika and not far from the\\n Mount Athos monastic community, was ideal for the patriotic sculpture. \\n \\n As well as Alexander's granite features, 240 ft high and 170 ft wide, a\\n museum, a restored amphitheatre and car park for admiring crowds are\\nplanned\\n---------------------\\nSo is this mountain limestone or granite?\\nIf it's limestone, it'll weather pretty fast.\\n\\n------------------------ Yahoo! Groups Sponsor ---------------------~-->\\n4 DVDs Free +s&p Join Now\\nhttp://us.click.yahoo.com/pt6YBB/NXiEAA/mG3HAA/7gSolB/TM\\n---------------------------------------------------------------------~->\\n\\nTo unsubscribe from this group, send an email to:\\nforteana-unsubscribe@egroups.com\\n\\n \\n\\nYour use of Yahoo! Groups is subject to http://docs.yahoo.com/info/terms/ \\n\\n\\n\\n\"]"
      ]
     },
     "execution_count": 6,
     "metadata": {},
     "output_type": "execute_result"
    }
   ],
   "source": [
    "# Merge Ham and Spam mails\n",
    "mail = ham_mail + spam_mail\n",
    "label = ham_label + spam_label\n",
    "\n",
    "# Combine mail subjust and body together\n",
    "mail_text = []\n",
    "\n",
    "for i in range(len(mail)):\n",
    "    mail_text.append(str(mail[i][0]) + ' ' + mail[i][1])\n",
    "    \n",
    "mail_text[:2]"
   ]
  },
  {
   "cell_type": "markdown",
   "metadata": {},
   "source": [
    "### (2) Mail pre-processing: \n",
    "Before tokenization, I took below techniques: \n",
    "1. Lower capital letters; \n",
    "1. Remove punctuations to minimize noise; \n",
    "1. Remove numbers since they usually provide no much information; \n",
    "1. Remove addtional white spaces for tidy formatting; \n",
    "1. Replace URL with a string \"URL\" because all URLs in mails are too identical to provide insights, and grouping them together may be helpful for classification. Here, I only replaced two kinds of URLs, which are beginning with \"http\" or endding with \"com\". "
   ]
  },
  {
   "cell_type": "code",
   "execution_count": 7,
   "metadata": {},
   "outputs": [
    {
     "data": {
      "text/plain": [
       "['re new sequences window date wed aug from chris garrigues messageid URL i cant reproduce this error for me it is very repeatable like every time without fail this is the debug log of the pick happening pickit exec pick inbox list lbrace lbrace subject ftp rbrace rbrace sequence mercury exec pick inbox list lbrace lbrace subject ftp rbrace rbrace sequence mercury ftocpickmsgs hit marking hits tkerror syntax error in expression int note if i run the pick command by hand delta pick inbox list lbrace lbrace subject ftp rbrace rbrace sequence mercury hit thats where the hit comes from obviously the version of nmh im using is delta pick version pick nmh compiled on fuchsiacsmuozau at sun mar ict and the relevant part of my mhprofile delta mhparam pick seq sel list since the pick command works the sequence actually both of them the one thats explicit on the command line from the search popup and the one that comes from mhprofile do get created kre ps this is still using the version of the code form a day ago i havent been able to reach the cvs repository today local routing issue i think exmhworkers mailing list URL URL',\n",
       " 'zzzzteana re alexander martin a posted tassos papadopoulos the greek sculptor behind the plan judged that the limestone of mount kerdylio miles east of salonika and not far from the mount athos monastic community was ideal for the patriotic sculpture as well as alexanders granite features ft high and ft wide a museum a restored amphitheatre and car park for admiring crowds are planned so is this mountain limestone or granite if its limestone itll weather pretty fast yahoo groups sponsor dvds free sp join now URL to unsubscribe from this group send an email to URL your use of yahoo groups is subject to URL']"
      ]
     },
     "execution_count": 7,
     "metadata": {},
     "output_type": "execute_result"
    }
   ],
   "source": [
    "# Mail text preprocessing\n",
    "mail_pre = []\n",
    "\n",
    "for i in range(len(mail_text)): \n",
    "    pre_text = mail_text[i]\n",
    "    \n",
    "    # Lower all words and remove punctuations\n",
    "    pre_text = pre_text.lower().translate(str.maketrans('', '', string.punctuation))\n",
    "    \n",
    "    # Remove numbers\n",
    "    pre_text = re.sub(r'\\d+', '', pre_text)\n",
    "    \n",
    "    # Remove addtional white spaces\n",
    "    pre_text = \" \".join(pre_text.split())\n",
    "    \n",
    "    # Replace URLs with a string \"URL\" (Beginning with \"http\" or endding with \"com\")\n",
    "    pre_text = re.sub(\"http\\w+\", \"URL\",  pre_text)\n",
    "    pre_text = re.sub(\"\\w+com\", \"URL\",  pre_text)\n",
    "    \n",
    "    mail_pre.append(pre_text)\n",
    "\n",
    "mail_pre[:2]"
   ]
  },
  {
   "cell_type": "markdown",
   "metadata": {},
   "source": [
    "Then, I built up a tokenization function embedding three more techniques, puth this tokenization function into the TF-IDF vectorizor as an argument: \n",
    "1. Remove stop words; \n",
    "1. Stem words; \n",
    "1. Lemmatize words. "
   ]
  },
  {
   "cell_type": "code",
   "execution_count": 8,
   "metadata": {},
   "outputs": [],
   "source": [
    "# Build up a tokenization function\n",
    "def tokenize(text):\n",
    "    tokens = word_tokenize(text)\n",
    "    \n",
    "    # Remove stop words\n",
    "    stop_words = set(stopwords.words('english'))  \n",
    "    nonstop = [w for w in tokens if not w in stop_words]\n",
    "    \n",
    "    # Embedding word stemming\n",
    "    stems = []\n",
    "    for item in nonstop:\n",
    "        stems.append(PorterStemmer().stem(item))\n",
    "    \n",
    "    # Embedding word lemmatization\n",
    "    lemma = []\n",
    "    for item in stems: \n",
    "        lemma.append(WordNetLemmatizer().lemmatize(item))\n",
    "    \n",
    "    return lemma"
   ]
  },
  {
   "cell_type": "code",
   "execution_count": 9,
   "metadata": {},
   "outputs": [],
   "source": [
    "# TF-IDF vectorization\n",
    "tfidf_vec = TfidfVectorizer(tokenizer=tokenize)\n",
    "\n",
    "mail_tfidf = tfidf_vec.fit_transform(mail_pre)\n",
    "mail_vocab = tfidf_vec.get_feature_names()\n",
    "mail_tfidf = pd.DataFrame(mail_tfidf.toarray(), columns=mail_vocab)"
   ]
  },
  {
   "cell_type": "markdown",
   "metadata": {},
   "source": [
    "### (3) Select the best classifier: "
   ]
  },
  {
   "cell_type": "markdown",
   "metadata": {},
   "source": [
    "For the convinience to compare all candidate models, I wrote a function to return three evaluation metrics, including test recall, test precision and test error rate. This function with an argument of train_size an also be used to explore the relationship between training size and classifier's performance. "
   ]
  },
  {
   "cell_type": "code",
   "execution_count": 10,
   "metadata": {},
   "outputs": [],
   "source": [
    "# Build up a function to return evaluation metrics for candidate models\n",
    "def model_selection(feature, label, size=0.8, random_number=0): \n",
    "    X_train, X_test, y_train, y_test = train_test_split(feature, label, \n",
    "                                                        train_size=size, \n",
    "                                                        random_state=random_number)\n",
    "    \n",
    "    model_nominate = [MultinomialNB(), KNeighborsClassifier(), LogisticRegression()]\n",
    "    \n",
    "    test_recall = []\n",
    "    test_precision = []\n",
    "    test_error = []\n",
    "    \n",
    "    for model in model_nominate: \n",
    "        model.fit(X_train, y_train)\n",
    "        \n",
    "        y_test_pred = model.predict(X_test)\n",
    "        \n",
    "        test_recall.append(recall_score(y_test, y_test_pred))\n",
    "        test_precision.append(precision_score(y_test, y_test_pred))\n",
    "        test_error.append(1-model.score(X_test, y_test))\n",
    "    \n",
    "    return test_recall, test_precision, test_error"
   ]
  },
  {
   "cell_type": "markdown",
   "metadata": {},
   "source": [
    "When analyzing evaluation metrics, recall and precision should be both more important than accuracy. Therefore, the Naive Bayes with a low recall should be eliminated first. For spam mail detection, we of course should try to find as many spam mails as possible. But at the same time, it's better to keep almost all ham mails in the inbox since incorrect classification into spam can result in missing important mails for us. \n",
    "\n",
    "Therefore, for KNN, its recall is the highest, but its precision is lower than logistic regression. The error rate for the both are nearly same. From my point of view, logistic regression might be better since all predicted spam mails are labelled correctly and it can also ensure to detect more than half spam mails. But we still need to see the confusion matrix so that the conclusion can be made. "
   ]
  },
  {
   "cell_type": "code",
   "execution_count": 11,
   "metadata": {},
   "outputs": [
    {
     "name": "stdout",
     "output_type": "stream",
     "text": [
      "Naive Bayes Recall:  0.15385 \n",
      "KNN Recall:  0.80769 \n",
      "Logistic Regression Recall:  0.66667\n"
     ]
    }
   ],
   "source": [
    "# Use the model selection function upon our mail data\n",
    "test_recall, test_precision, test_error = model_selection(mail_tfidf, label)\n",
    "\n",
    "# Print test recalls\n",
    "print('Naive Bayes Recall: ', round(test_recall[0], 5), \n",
    "      '\\nKNN Recall: ', round(test_recall[1], 5),\n",
    "      '\\nLogistic Regression Recall: ', round(test_recall[2], 5))"
   ]
  },
  {
   "cell_type": "code",
   "execution_count": 12,
   "metadata": {},
   "outputs": [
    {
     "name": "stdout",
     "output_type": "stream",
     "text": [
      "Naive Bayes Precision:  1.0 \n",
      "KNN Precision:  0.84 \n",
      "Logistic Regression Precision:  1.0\n"
     ]
    }
   ],
   "source": [
    "# Print test precisions\n",
    "print('Naive Bayes Precision: ', round(test_precision[0], 5), \n",
    "      '\\nKNN Precision: ', round(test_precision[1], 5),\n",
    "      '\\nLogistic Regression Precision: ', round(test_precision[2], 5))"
   ]
  },
  {
   "cell_type": "code",
   "execution_count": 13,
   "metadata": {},
   "outputs": [
    {
     "name": "stdout",
     "output_type": "stream",
     "text": [
      "Naive Bayes Error:  0.11 \n",
      "KNN Error:  0.045 \n",
      "Logistic Regression Error:  0.04333\n"
     ]
    }
   ],
   "source": [
    "# Print test error rates\n",
    "print('Naive Bayes Error: ', round(test_error[0], 5), \n",
    "      '\\nKNN Error: ', round(test_error[1], 5),\n",
    "      '\\nLogistic Regression Error: ', round(test_error[2], 5))"
   ]
  },
  {
   "cell_type": "markdown",
   "metadata": {},
   "source": [
    "### (4) Export confusion matrix: "
   ]
  },
  {
   "cell_type": "markdown",
   "metadata": {},
   "source": [
    "Since KNN and Logistic Regression have similar performance from the view of error rate, I exported confusion matrix for the both below (KNN is in **<font color=blue>Blue</font>** and Logistic Regression is in **<font color=red>Red</font>**): "
   ]
  },
  {
   "cell_type": "code",
   "execution_count": 27,
   "metadata": {},
   "outputs": [
    {
     "data": {
      "image/png": "[encoded data removed]",
      "text/plain": [
       "<Figure size 432x288 with 2 Axes>"
      ]
     },
     "metadata": {
      "needs_background": "light"
     },
     "output_type": "display_data"
    }
   ],
   "source": [
    "# Plot confusion matrix with the training set for KNN and Logistic Regression\n",
    "X_train, X_test, y_train, y_test = train_test_split(mail_tfidf, label, \n",
    "                                                    train_size=0.8)\n",
    "\n",
    "knn = KNeighborsClassifier()\n",
    "knn.fit(X_train, y_train)\n",
    "\n",
    "lr = LogisticRegression()\n",
    "lr.fit(X_train, y_train)\n",
    "\n",
    "plot_confusion_matrix(knn, X_train, y_train, \n",
    "                      display_labels=['Ham', 'Spam'], \n",
    "                      cmap=plt.cm.Blues, \n",
    "                      normalize='true');"
   ]
  },
  {
   "cell_type": "code",
   "execution_count": 31,
   "metadata": {},
   "outputs": [
    {
     "data": {
      "image/png": "[encoded data removed]",
      "text/plain": [
       "<Figure size 432x288 with 2 Axes>"
      ]
     },
     "metadata": {
      "needs_background": "light"
     },
     "output_type": "display_data"
    }
   ],
   "source": [
    "plot_confusion_matrix(lr, X_train, y_train, \n",
    "                      display_labels=['Ham', 'Spam'], \n",
    "                      cmap=plt.cm.Reds, \n",
    "                      normalize='true');"
   ]
  },
  {
   "cell_type": "code",
   "execution_count": 29,
   "metadata": {},
   "outputs": [
    {
     "data": {
      "image/png": "[encoded data removed]",
      "text/plain": [
       "<Figure size 432x288 with 2 Axes>"
      ]
     },
     "metadata": {
      "needs_background": "light"
     },
     "output_type": "display_data"
    }
   ],
   "source": [
    "# Plot confusion matrix with the test set for the best model\n",
    "plot_confusion_matrix(knn, X_test, y_test, \n",
    "                      display_labels=['Ham', 'Spam'], \n",
    "                      cmap=plt.cm.Blues, \n",
    "                      normalize='true');"
   ]
  },
  {
   "cell_type": "code",
   "execution_count": 32,
   "metadata": {},
   "outputs": [
    {
     "data": {
      "image/png": "[encoded data removed]",
      "text/plain": [
       "<Figure size 432x288 with 2 Axes>"
      ]
     },
     "metadata": {
      "needs_background": "light"
     },
     "output_type": "display_data"
    }
   ],
   "source": [
    "plot_confusion_matrix(lr, X_test, y_test, \n",
    "                      display_labels=['Ham', 'Spam'], \n",
    "                      cmap=plt.cm.Reds, \n",
    "                      normalize='true');"
   ]
  },
  {
   "cell_type": "markdown",
   "metadata": {},
   "source": [
    "From the above matrix, we can find their test performance has no big difference with train performance. So the both have a good balance between bias and variance. But for KNN, the ham mails which are wrongly classified as spam are at a small rate. Meanwhile, it's performance on recall is higher. It means that we can have less distractions from spam mail even though a very samll number of ham mails may be incorrectly classified. Therefore, KNN should be the best model for us to detect spam mails. "
   ]
  },
  {
   "cell_type": "markdown",
   "metadata": {},
   "source": [
    "### (5) Relationship between training size and classifier's performance:"
   ]
  },
  {
   "cell_type": "code",
   "execution_count": 16,
   "metadata": {},
   "outputs": [],
   "source": [
    "# Try different training sizes in the model\n",
    "min_error = []\n",
    "best_model = []\n",
    "model_nominate = ['Naive Bayes', 'KNN', 'Logistic Regression']\n",
    "size_list = np.linspace(0, 1, 10, endpoint=False)[1: ]\n",
    "\n",
    "for size in size_list: \n",
    "    test_recall, test_precision, test_error = model_selection(mail_tfidf, \n",
    "                                                              label, size)\n",
    "    min_error.append(min(test_error))\n",
    "    best_model.append(model_nominate[test_error.index(min(test_error))])"
   ]
  },
  {
   "cell_type": "code",
   "execution_count": 17,
   "metadata": {},
   "outputs": [
    {
     "data": {
      "text/plain": [
       "['KNN', 'KNN', 'KNN', 'KNN', 'KNN', 'KNN', 'KNN', 'Logistic Regression', 'KNN']"
      ]
     },
     "execution_count": 17,
     "metadata": {},
     "output_type": "execute_result"
    }
   ],
   "source": [
    "# Print the best model under different training sizes\n",
    "best_model"
   ]
  },
  {
   "cell_type": "code",
   "execution_count": 18,
   "metadata": {},
   "outputs": [
    {
     "data": {
      "image/png": "[encoded data removed]",
      "text/plain": [
       "<Figure size 720x432 with 1 Axes>"
      ]
     },
     "metadata": {
      "needs_background": "light"
     },
     "output_type": "display_data"
    }
   ],
   "source": [
    "# Plot the learning curve\n",
    "plt.figure(figsize=(10, 6))\n",
    "plt.plot(size_list, min_error)\n",
    "plt.ylabel('Test Error Rate')\n",
    "plt.xlabel('Train Size')\n",
    "plt.title('Learning Curve of KNN Classifier');"
   ]
  },
  {
   "cell_type": "markdown",
   "metadata": {},
   "source": [
    "In the plot above, we can find the curve is decreasing especially from 0.1 to 0.6. So the test performance is absolutely get better with the rise of training size. But after the training size of 0.6, the change is smaller. Considering about the trade-off between bias and variance, we may choose 0.6-0.8 as the training size. "
   ]
  },
  {
   "cell_type": "markdown",
   "metadata": {},
   "source": [
    "### (6) Find indicative tokens for the spam class: "
   ]
  },
  {
   "cell_type": "code",
   "execution_count": 19,
   "metadata": {},
   "outputs": [],
   "source": [
    "# Compute token counts\n",
    "count_vect = CountVectorizer()\n",
    "mail_count_vect = count_vect.fit_transform(mail_pre)\n",
    "\n",
    "# Extract feature names\n",
    "feature_names = count_vect.get_feature_names()"
   ]
  },
  {
   "cell_type": "code",
   "execution_count": 20,
   "metadata": {},
   "outputs": [],
   "source": [
    "# Compute tokens' conditional probabilities\n",
    "prob_ham = (mail_count_vect[:2500, :].sum(axis=0)+1)/mail_count_vect[:2500, :].sum()\n",
    "prob_spam = (mail_count_vect[2500: , :].sum(axis=0)+1)/mail_count_vect[2500: , :].sum()"
   ]
  },
  {
   "cell_type": "code",
   "execution_count": 21,
   "metadata": {},
   "outputs": [
    {
     "data": {
      "text/plain": [
       "[(6.089186709946802, 9166),\n",
       " (5.53158502138308, 1880),\n",
       " (5.276238329574236, 13056),\n",
       " (5.006574762625133, 8661),\n",
       " (5.006574762625133, 9162)]"
      ]
     },
     "execution_count": 21,
     "metadata": {},
     "output_type": "execute_result"
    }
   ],
   "source": [
    "# Compute tokens' indication values\n",
    "indication = np.log(prob_spam/prob_ham).tolist()[0]\n",
    "\n",
    "# Rank indication values in decreasing order and extract the Top 5\n",
    "indication_tup = zip(indication, range(len(indication)))\n",
    "sorted_list = sorted(indication_tup, key=lambda v: v[0], reverse=True)\n",
    "sorted_list[:5]"
   ]
  },
  {
   "cell_type": "code",
   "execution_count": 22,
   "metadata": {},
   "outputs": [
    {
     "data": {
      "text/plain": [
       "['enenkio', 'atoll', 'hermios', 'ebook', 'eneenkio']"
      ]
     },
     "execution_count": 22,
     "metadata": {},
     "output_type": "execute_result"
    }
   ],
   "source": [
    "# Extract indicative tokens from feature names\n",
    "indicative_tokens = []\n",
    "\n",
    "for i in range(5):\n",
    "    indicative_tokens.append(feature_names[sorted_list[:5][i][1]])\n",
    "    \n",
    "indicative_tokens"
   ]
  }
 ],
 "metadata": {
  "kernelspec": {
   "display_name": "Python 3",
   "language": "python",
   "name": "python3"
  },
  "language_info": {
   "codemirror_mode": {
    "name": "ipython",
    "version": 3
   },
   "file_extension": ".py",
   "mimetype": "text/x-python",
   "name": "python",
   "nbconvert_exporter": "python",
   "pygments_lexer": "ipython3",
   "version": "3.7.4"
  }
 },
 "nbformat": 4,
 "nbformat_minor": 2
}
