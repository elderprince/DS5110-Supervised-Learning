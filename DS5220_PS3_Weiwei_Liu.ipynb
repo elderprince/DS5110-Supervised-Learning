{
 "cells": [
  {
   "cell_type": "markdown",
   "metadata": {},
   "source": [
    "# DS 5220 Problem Set 3: \n",
    "# Decision Trees, Ensemble Methods (Spring 2021)\n",
    "**Instructor:** Roi Yehoshua\n",
    "<br>\n",
    "**Student name:** Weiwei Liu (001404153)\n",
    "<br>"
   ]
  },
  {
   "cell_type": "markdown",
   "metadata": {},
   "source": [
    "## 1. Decision Trees"
   ]
  },
  {
   "cell_type": "code",
   "execution_count": 1,
   "metadata": {},
   "outputs": [],
   "source": [
    "import pandas as pd\n",
    "import numpy as np\n",
    "from pprint import pprint\n",
    "import matplotlib.pyplot as plt\n",
    "\n",
    "from sklearn.model_selection import train_test_split\n",
    "from sklearn.datasets import load_iris\n",
    "from sklearn.tree import DecisionTreeClassifier, plot_tree\n",
    "from sklearn.metrics import accuracy_score"
   ]
  },
  {
   "cell_type": "markdown",
   "metadata": {},
   "source": [
    "### (1) Scratch a tree model:"
   ]
  },
  {
   "cell_type": "markdown",
   "metadata": {},
   "source": [
    "Reference: codes in the section are mainly from **Sebastian Mantey's tutorial** (https://github.com/SebastianMantey/Decision-Tree-from-Scratch)"
   ]
  },
  {
   "cell_type": "code",
   "execution_count": 2,
   "metadata": {},
   "outputs": [],
   "source": [
    "# Function to examine if the labele in the data is pure\n",
    "# Use it at the beginning of the classification\n",
    "def check_purity(label):\n",
    "    \n",
    "    if len(np.unique(label)) == 1:\n",
    "        return True\n",
    "    else:\n",
    "        return False"
   ]
  },
  {
   "cell_type": "code",
   "execution_count": 3,
   "metadata": {},
   "outputs": [],
   "source": [
    "# Classify based on the class with the max counts\n",
    "# Use it when the data size is below the min sample limit \n",
    "def classify_data(label):\n",
    "    \n",
    "    unique_classes, counts_unique_classes = np.unique(label, return_counts=True)\n",
    "    classification = unique_classes[counts_unique_classes.argmax()]\n",
    "    \n",
    "    return classification"
   ]
  },
  {
   "cell_type": "code",
   "execution_count": 4,
   "metadata": {},
   "outputs": [],
   "source": [
    "# Claculate all potential split points\n",
    "def get_potential_splits(data):\n",
    "    \n",
    "    potential_splits = {}\n",
    "    \n",
    "    for i in range(data.shape[1] -1): \n",
    "        potential_splits[i] = []\n",
    "        unique_values = np.unique(data[:, i])\n",
    "        \n",
    "        for j in range(len(unique_values)): \n",
    "            if j != 0: \n",
    "                c = unique_values[j]\n",
    "                v = unique_values[j-1]\n",
    "                potential_split = (c + v) / 2\n",
    "                potential_splits[i].append(potential_split)\n",
    "        \n",
    "    return potential_splits"
   ]
  },
  {
   "cell_type": "code",
   "execution_count": 5,
   "metadata": {},
   "outputs": [],
   "source": [
    "# Split data according the split value assigned\n",
    "def split_data(data, split_column, split_value):\n",
    "    \n",
    "    split_column_values = data[:, split_column]\n",
    "\n",
    "    data_below = data[split_column_values <= split_value]\n",
    "    data_above = data[split_column_values >  split_value]\n",
    "    \n",
    "    return data_below, data_above"
   ]
  },
  {
   "cell_type": "code",
   "execution_count": 6,
   "metadata": {},
   "outputs": [],
   "source": [
    "# Calculate the entropy before spliting\n",
    "def calculate_entropy(data):\n",
    "    \n",
    "    label_column = data[:, -1]\n",
    "    _, counts = np.unique(label_column, return_counts=True)\n",
    "\n",
    "    probabilities = counts / counts.sum()\n",
    "    entropy = sum(probabilities * -np.log2(probabilities))\n",
    "     \n",
    "    return entropy"
   ]
  },
  {
   "cell_type": "code",
   "execution_count": 7,
   "metadata": {},
   "outputs": [],
   "source": [
    "# Calculate the entropy in each data split \n",
    "def calculate_overall_entropy(data_below, data_above):\n",
    "    \n",
    "    n = len(data_below) + len(data_above)\n",
    "    p_data_below = len(data_below) / n\n",
    "    p_data_above = len(data_above) / n\n",
    "\n",
    "    overall_entropy =  (p_data_below * calculate_entropy(data_below) \n",
    "                      + p_data_above * calculate_entropy(data_above))\n",
    "    \n",
    "    return overall_entropy"
   ]
  },
  {
   "cell_type": "code",
   "execution_count": 8,
   "metadata": {},
   "outputs": [],
   "source": [
    "# Find the split point with the max information gain\n",
    "# a.k.a the split point with the min entropy in the split\n",
    "def determine_best_split(data, potential_splits):\n",
    "    \n",
    "    overall_entropy = 9999999\n",
    "    for i in potential_splits:\n",
    "        for v in potential_splits[i]:\n",
    "            data_below, data_above = split_data(data, \n",
    "                                                split_column=i, \n",
    "                                                split_value=v)\n",
    "            current_overall_entropy = calculate_overall_entropy(data_below, \n",
    "                                                                data_above)\n",
    "\n",
    "            if current_overall_entropy <= overall_entropy:\n",
    "                overall_entropy = current_overall_entropy\n",
    "                best_split_column = i\n",
    "                best_split_value = v\n",
    "    \n",
    "    return best_split_column, best_split_value"
   ]
  },
  {
   "cell_type": "code",
   "execution_count": 9,
   "metadata": {},
   "outputs": [],
   "source": [
    "# The main algorithm for decision tree\n",
    "def decision_tree_algorithm(df, counter=0, \n",
    "                            min_samples=2, \n",
    "                            max_depth=5):\n",
    "    \n",
    "    # Data preparations\n",
    "    if counter == 0:\n",
    "        global COLUMN_HEADERS\n",
    "        COLUMN_HEADERS = df.columns\n",
    "        data = df.values\n",
    "    else:\n",
    "        data = df\n",
    "    \n",
    "    # Base cases as the begining of classification\n",
    "    if (check_purity(data[:, -1])) or (len(data) < min_samples) or (counter == max_depth):\n",
    "        classification = classify_data(data[:, -1])\n",
    "        return classification\n",
    "\n",
    "    \n",
    "    # Recursive part\n",
    "    else:    \n",
    "        counter += 1\n",
    "\n",
    "        # Functions to find the split point and to split data\n",
    "        potential_splits = get_potential_splits(data)\n",
    "        split_column, split_value = determine_best_split(data, potential_splits)\n",
    "        data_below, data_above = split_data(data, \n",
    "                                            split_column, \n",
    "                                            split_value)\n",
    "        \n",
    "        # Check if every branch has nodes\n",
    "        if len(data_below) == 0 or len(data_above) == 0:\n",
    "            classification = classify_data(data)\n",
    "            return classification\n",
    "        \n",
    "        # Format a dictionary to store split information\n",
    "        feature_name = COLUMN_HEADERS[split_column]\n",
    "        question = \"{} | <= | {}\".format(feature_name, split_value)\n",
    "        sub_tree = {question: []}\n",
    "        \n",
    "        # Implement the algorithm recursively \n",
    "        # Keep going until base cases are met or no node exists at one branch\n",
    "        yes_answer = decision_tree_algorithm(data_below, counter, min_samples, max_depth)\n",
    "        no_answer = decision_tree_algorithm(data_above, counter, min_samples, max_depth)\n",
    "        \n",
    "        # Append the sub tree into the dictionary\n",
    "        if yes_answer == no_answer:\n",
    "            sub_tree = yes_answer\n",
    "        else:\n",
    "            sub_tree[question].append(yes_answer)\n",
    "            sub_tree[question].append(no_answer)\n",
    "        return sub_tree"
   ]
  },
  {
   "cell_type": "code",
   "execution_count": 10,
   "metadata": {},
   "outputs": [],
   "source": [
    "# Function to classify based on a trained tree\n",
    "def classify_example(example, tree):\n",
    "    question = list(tree.keys())[0]\n",
    "    feature_name, comparison_operator, value = question.split(\" | \")\n",
    "\n",
    "    # Label examples based on the answer to the split question\n",
    "    if example[feature_name] <= float(value):\n",
    "        answer = tree[question][0]\n",
    "    else:\n",
    "        answer = tree[question][1]\n",
    "\n",
    "    # Base case to end the recursive\n",
    "    # Ensure all examples get a label\n",
    "    if not isinstance(answer, dict):\n",
    "        return answer\n",
    "    \n",
    "    # Recursive part\n",
    "    else:\n",
    "        residual_tree = answer\n",
    "        return classify_example(example, residual_tree)"
   ]
  },
  {
   "cell_type": "code",
   "execution_count": 11,
   "metadata": {},
   "outputs": [],
   "source": [
    "# Function calculate the prediction accuracy\n",
    "def calculate_accuracy(df, tree):\n",
    "\n",
    "    df[\"classification\"] = df.apply(classify_example, axis=1, args=(tree,))\n",
    "    df[\"classification_correct\"] = df[\"classification\"] == df.iloc[:, -2]\n",
    "    \n",
    "    accuracy = df[\"classification_correct\"].mean()\n",
    "    \n",
    "    return accuracy"
   ]
  },
  {
   "cell_type": "markdown",
   "metadata": {},
   "source": [
    "### (2) Test the scratch algorithm with Iris data set"
   ]
  },
  {
   "cell_type": "code",
   "execution_count": 12,
   "metadata": {},
   "outputs": [
    {
     "data": {
      "text/html": [
       "<div>\n",
       "<style scoped>\n",
       "    .dataframe tbody tr th:only-of-type {\n",
       "        vertical-align: middle;\n",
       "    }\n",
       "\n",
       "    .dataframe tbody tr th {\n",
       "        vertical-align: top;\n",
       "    }\n",
       "\n",
       "    .dataframe thead th {\n",
       "        text-align: right;\n",
       "    }\n",
       "</style>\n",
       "<table border=\"1\" class=\"dataframe\">\n",
       "  <thead>\n",
       "    <tr style=\"text-align: right;\">\n",
       "      <th></th>\n",
       "      <th>sepal length (cm)</th>\n",
       "      <th>sepal width (cm)</th>\n",
       "      <th>petal length (cm)</th>\n",
       "      <th>petal width (cm)</th>\n",
       "      <th>target</th>\n",
       "    </tr>\n",
       "  </thead>\n",
       "  <tbody>\n",
       "    <tr>\n",
       "      <td>0</td>\n",
       "      <td>5.1</td>\n",
       "      <td>3.5</td>\n",
       "      <td>1.4</td>\n",
       "      <td>0.2</td>\n",
       "      <td>0</td>\n",
       "    </tr>\n",
       "    <tr>\n",
       "      <td>1</td>\n",
       "      <td>4.9</td>\n",
       "      <td>3.0</td>\n",
       "      <td>1.4</td>\n",
       "      <td>0.2</td>\n",
       "      <td>0</td>\n",
       "    </tr>\n",
       "    <tr>\n",
       "      <td>2</td>\n",
       "      <td>4.7</td>\n",
       "      <td>3.2</td>\n",
       "      <td>1.3</td>\n",
       "      <td>0.2</td>\n",
       "      <td>0</td>\n",
       "    </tr>\n",
       "    <tr>\n",
       "      <td>3</td>\n",
       "      <td>4.6</td>\n",
       "      <td>3.1</td>\n",
       "      <td>1.5</td>\n",
       "      <td>0.2</td>\n",
       "      <td>0</td>\n",
       "    </tr>\n",
       "    <tr>\n",
       "      <td>4</td>\n",
       "      <td>5.0</td>\n",
       "      <td>3.6</td>\n",
       "      <td>1.4</td>\n",
       "      <td>0.2</td>\n",
       "      <td>0</td>\n",
       "    </tr>\n",
       "  </tbody>\n",
       "</table>\n",
       "</div>"
      ],
      "text/plain": [
       "   sepal length (cm)  sepal width (cm)  petal length (cm)  petal width (cm)  \\\n",
       "0                5.1               3.5                1.4               0.2   \n",
       "1                4.9               3.0                1.4               0.2   \n",
       "2                4.7               3.2                1.3               0.2   \n",
       "3                4.6               3.1                1.5               0.2   \n",
       "4                5.0               3.6                1.4               0.2   \n",
       "\n",
       "   target  \n",
       "0       0  \n",
       "1       0  \n",
       "2       0  \n",
       "3       0  \n",
       "4       0  "
      ]
     },
     "execution_count": 12,
     "metadata": {},
     "output_type": "execute_result"
    }
   ],
   "source": [
    "# Import Iris dataset from sklearn.datasets\n",
    "iris = load_iris(as_frame=True).frame\n",
    "iris.head()"
   ]
  },
  {
   "cell_type": "code",
   "execution_count": 13,
   "metadata": {},
   "outputs": [],
   "source": [
    "# Extract feature data and target data\n",
    "data = iris.iloc[:, :4]\n",
    "label = iris.iloc[:, 4]\n",
    "\n",
    "# Training and test split with train_size=0.8\n",
    "X_train, X_test, y_train, y_test = train_test_split(data, label, \n",
    "                                                    train_size=0.8, \n",
    "                                                    random_state=15)"
   ]
  },
  {
   "cell_type": "code",
   "execution_count": 14,
   "metadata": {},
   "outputs": [
    {
     "data": {
      "text/plain": [
       "(120, 4)"
      ]
     },
     "execution_count": 14,
     "metadata": {},
     "output_type": "execute_result"
    }
   ],
   "source": [
    "# Shape of the training set\n",
    "X_train.shape"
   ]
  },
  {
   "cell_type": "code",
   "execution_count": 15,
   "metadata": {},
   "outputs": [
    {
     "data": {
      "text/plain": [
       "(30, 4)"
      ]
     },
     "execution_count": 15,
     "metadata": {},
     "output_type": "execute_result"
    }
   ],
   "source": [
    "# Shape of the test set\n",
    "X_test.shape"
   ]
  },
  {
   "cell_type": "code",
   "execution_count": 16,
   "metadata": {},
   "outputs": [],
   "source": [
    "# Produce the data can be used in the scratch algorithm\n",
    "train_df = pd.concat([X_train, y_train], axis=1)\n",
    "test_df = pd.concat([X_test, y_test], axis=1)"
   ]
  },
  {
   "cell_type": "code",
   "execution_count": 17,
   "metadata": {},
   "outputs": [
    {
     "name": "stdout",
     "output_type": "stream",
     "text": [
      "{'petal width (cm) | <= | 0.8': [0.0,\n",
      "                                 {'petal width (cm) | <= | 1.75': [{'petal length (cm) | <= | 4.95': [1.0,\n",
      "                                                                                                      2.0]},\n",
      "                                                                   {'petal length (cm) | <= | 4.85': [1.0,\n",
      "                                                                                                      2.0]}]}]}\n"
     ]
    }
   ],
   "source": [
    "# Build up and print the tree\n",
    "tree = decision_tree_algorithm(train_df, max_depth=3)\n",
    "pprint(tree)"
   ]
  },
  {
   "cell_type": "markdown",
   "metadata": {},
   "source": [
    "### (3) Compare with the model from *sklearn*: "
   ]
  },
  {
   "cell_type": "code",
   "execution_count": 23,
   "metadata": {},
   "outputs": [
    {
     "data": {
      "image/png": "[encoded data removed]",
      "text/plain": [
       "<Figure size 600x400 with 1 Axes>"
      ]
     },
     "metadata": {
      "needs_background": "light"
     },
     "output_type": "display_data"
    }
   ],
   "source": [
    "skmodel = DecisionTreeClassifier(max_depth=3)\n",
    "skmodel = skmodel.fit(X_train, y_train)\n",
    "y_pred = skmodel.predict(X_test)\n",
    "plt.figure(dpi = 100)\n",
    "plot_tree(skmodel, feature_names = load_iris().feature_names, filled=True);"
   ]
  },
  {
   "cell_type": "code",
   "execution_count": 19,
   "metadata": {},
   "outputs": [
    {
     "data": {
      "text/plain": [
       "0.9666666666666667"
      ]
     },
     "execution_count": 19,
     "metadata": {},
     "output_type": "execute_result"
    }
   ],
   "source": [
    "# Calculate the accuracy for scratch model\n",
    "calculate_accuracy(test_df, tree)"
   ]
  },
  {
   "cell_type": "code",
   "execution_count": 20,
   "metadata": {},
   "outputs": [
    {
     "data": {
      "text/plain": [
       "0.9666666666666667"
      ]
     },
     "execution_count": 20,
     "metadata": {},
     "output_type": "execute_result"
    }
   ],
   "source": [
    "# Calculate the accuracy for sklearn model\n",
    "accuracy_score(y_test, y_pred)"
   ]
  },
  {
   "cell_type": "markdown",
   "metadata": {},
   "source": [
    "In the scratch model, the split point is below: \n",
    "1. Depth 1: petal width: 0.8\n",
    "1. Depth 2: petal width: 1.75\n",
    "1. Depth 3: petal length: 4.95; petal length: 4.85\n",
    "\n",
    "In the *sklearn* model, the split point is below: \n",
    "1. Depth 1: petal width: 0.8\n",
    "1. Depth 2: petal width: 1.75\n",
    "1. Depth 3: petal length: 4.95; petal length: 4.85\n",
    "\n",
    "From the above, we can find that the scratch model produces a completely same tree like the one from the sklearn model. "
   ]
  },
  {
   "cell_type": "markdown",
   "metadata": {},
   "source": [
    "## 2. Training Error of Boosting"
   ]
  },
  {
   "cell_type": "markdown",
   "metadata": {},
   "source": [
    "### 1) Error inequality proof:"
   ]
  },
  {
   "cell_type": "markdown",
   "metadata": {},
   "source": [
    "$\n",
    "\\begin{align}\n",
    "f(\\mathrm{x}_i) &= \\mathrm{sign}(f(\\mathrm{x}_i))|f(\\mathrm{x}_i)|\\\\\n",
    "&= H(\\mathrm{x}_i)|f(\\mathrm{x}_i)|\n",
    "\\end{align}\n",
    "$"
   ]
  },
  {
   "cell_type": "markdown",
   "metadata": {},
   "source": [
    "When $H(\\mathrm{x}_i)=y_i$,\n",
    "\n",
    "$\n",
    "\\begin{align}\n",
    "\\mathrm{exp}(-f(\\mathrm{x}_i)y_i) &= \\mathrm{exp}(-H(\\mathrm{x}_i)|f(\\mathrm{x}_i)|y_i)\\\\\n",
    "&= \\mathrm{exp}(-|f(\\mathrm{x}_i)|) \\in [0, 1]\n",
    "\\end{align}\n",
    "$\n",
    "\n",
    "e.g. $\\mathbb{1}(H(\\mathrm{x}_i)\\neq y_i) = 0 \\leq \\mathrm{exp}(-f(\\mathrm{x}_i)y_i)$"
   ]
  },
  {
   "cell_type": "markdown",
   "metadata": {},
   "source": [
    "When $H(\\mathrm{x}_i)\\neq y_i$,\n",
    "\n",
    "$\n",
    "\\begin{align}\n",
    "\\mathrm{exp}(-f(\\mathrm{x}_i)y_i) &= \\mathrm{exp}(-H(\\mathrm{x}_i)|f(\\mathrm{x}_i)|y_i)\\\\\n",
    "&= \\mathrm{exp}(|f(\\mathrm{x}_i)|) \\geq 1\n",
    "\\end{align}\n",
    "$\n",
    "\n",
    "e.g. $\\mathbb{1}(H(\\mathrm{x}_i)\\neq y_i) = 1 \\leq \\mathrm{exp}(-f(\\mathrm{x}_i)y_i)$"
   ]
  },
  {
   "cell_type": "markdown",
   "metadata": {},
   "source": [
    "Therefore, $\\mathbb{1}(H(\\mathrm{x}_i)\\neq y_i) \\leq \\mathrm{exp}(-f(\\mathrm{x}_i)y_i)$, \n",
    "\n",
    "e.g. $\\frac{1}{n} \\sum_{i=1}^{n} \\mathbb{1}(H(\\mathrm{x}_i)\\neq y_i) \\leq \\frac{1}{n} \\sum_{i=1}^{n} \\mathrm{exp}(-f(\\mathrm{x}_i)y_i)$"
   ]
  },
  {
   "cell_type": "markdown",
   "metadata": {},
   "source": [
    "### 2) Recursive definition of distribution $D_t$: \n"
   ]
  },
  {
   "cell_type": "markdown",
   "metadata": {},
   "source": [
    "According to the recursive definition of $D_t$, we can replace the $D_t$ in $D_{t+1}$ recursively like the following: \n",
    "\n",
    "$\n",
    "\\begin{align}\n",
    "D_{t+1}(i) &= \\frac{1}{Z_t} D_t(i) \\; \\mathrm{exp}(- \\alpha_t y_i h_t(\\mathrm{x}_i)) \\\\\n",
    "&= \\frac{1}{Z_{t-1} Z_t} D_{t-1}(i) \\; \\mathrm{exp}(- y_i (\\alpha_t h_t(\\mathrm{x}_i) + \\alpha_{t-1} h_{t-1}(\\mathrm{x}_i))\\\\\n",
    "&= \\cdots \\\\\n",
    "&= \\frac{1}{\\prod_{t=1}^{T} Z_t} D_1 (i) \\; \\mathrm{exp}(- y_i (\\alpha_t h_t(\\mathrm{x}_i) + \\cdots + \\alpha_1 h_1(\\mathrm{x}_i)) \\\\\n",
    "&= \\frac{1}{\\prod_{t=1}^{T} Z_t} \\; \\frac{1}{n} \\; \\mathrm{exp}(- y_i f(\\mathrm{x}_i))\n",
    "\\end{align}\n",
    "$"
   ]
  },
  {
   "cell_type": "markdown",
   "metadata": {},
   "source": [
    "Since adding weights of all $\\mathrm{n}$ data points should be 1, \n",
    "\n",
    "$\n",
    "\\begin{align}\n",
    "\\sum_{i=1}^{n} D_{t+1}(i) &= \\frac{1}{\\prod_{t=1}^{T} Z_t} \\; \\frac{1}{n} \\; \\sum_{i=1}^{n}\\mathrm{exp}(- y_i f(\\mathrm{x}_i)) = 1\n",
    "\\end{align}\n",
    "$\n",
    "\n",
    "Therefore, $\\prod_{t=1}^{T} Z_t= \\frac{1}{n} \\; \\sum_{i=1}^{n}\\mathrm{exp}(- y_i f(\\mathrm{x}_i))$"
   ]
  },
  {
   "cell_type": "markdown",
   "metadata": {},
   "source": [
    "### 3) Re-write the formula of $Z_t$: "
   ]
  },
  {
   "cell_type": "markdown",
   "metadata": {},
   "source": [
    "$\n",
    "\\begin{align}\n",
    "Z_t &= \\sum_{i=1}^{n} D_t(i) \\; \\mathrm{exp}(- \\alpha_t y_i h_t(\\mathrm{x}_i))\\\\\n",
    "&= \\sum_{y_i h_t(\\mathrm{x}_i) = 1}^{} D_t(i) \\; \\mathrm{exp}(- \\alpha_t) + \\sum_{y_i h_t(\\mathrm{x}_i) = -1}^{} D_t(i) \\; \\mathrm{exp} (\\alpha_t)\\\\\n",
    "&= (1-\\varepsilon_t) \\; \\mathrm{exp}(- \\alpha_t) + \\varepsilon_t \\; \\mathrm{exp} (\\alpha_t)\n",
    "\\end{align}\n",
    "$"
   ]
  },
  {
   "cell_type": "markdown",
   "metadata": {},
   "source": [
    "### 4) Proof of $\\alpha_t$: "
   ]
  },
  {
   "cell_type": "markdown",
   "metadata": {},
   "source": [
    "In order to minimize $Z_t$, we need to take its derivative with respect to $\\alpha_t$ and set it to $0$: \n",
    "\n",
    "$\n",
    "\\begin{align}\n",
    "\\frac{dZ_t}{d\\alpha_t} &= (-1) (1-\\varepsilon_t) \\; \\mathrm{exp}(- \\alpha_t) + \\varepsilon_t \\; \\mathrm{exp} (\\alpha_t) \\\\\n",
    "&= (\\varepsilon_t - 1) \\; \\mathrm{exp}(- \\alpha_t) + \\varepsilon_t \\; \\mathrm{exp} (\\alpha_t) = 0\n",
    "\\end{align}\n",
    "$\n",
    "\n",
    "Therefore, \n",
    "\n",
    "$\n",
    "\\begin{align}\n",
    "(1-\\varepsilon_t) \\; \\mathrm{exp}(- \\alpha_t) &= \\varepsilon_t \\; \\mathrm{exp} (\\alpha_t) \\\\\n",
    "\\frac{\\mathrm{exp} (\\alpha_t)}{\\mathrm{exp}(- \\alpha_t)} &= \\frac{1-\\varepsilon_t}{\\varepsilon_t} \\\\\n",
    "\\mathrm{exp}(2\\alpha_t) &= \\frac{1-\\varepsilon_t}{\\varepsilon_t} \\\\\n",
    "2\\alpha_t &= ln (\\frac{1-\\varepsilon_t}{\\varepsilon_t}) \\\\\n",
    "\\alpha_t &= \\frac{1}{2} ln (\\frac{1-\\varepsilon_t}{\\varepsilon_t})\n",
    "\\end{align}\n",
    "$ "
   ]
  },
  {
   "cell_type": "markdown",
   "metadata": {},
   "source": [
    "### 5) Substitute $\\alpha_t$ in $Z_t$ with $\\varepsilon_t$:"
   ]
  },
  {
   "cell_type": "markdown",
   "metadata": {},
   "source": [
    "$\n",
    "\\begin{align}\n",
    "Z_t &= (1-\\varepsilon_t) \\; \\mathrm{exp}(- \\alpha_t) + \\varepsilon_t \\; \\mathrm{exp} (\\alpha_t) \\\\\n",
    "&= (1-\\varepsilon_t) \\; \\sqrt{\\frac{\\varepsilon_t}{1-\\varepsilon_t}} + \\varepsilon_t \\; \\sqrt{\\frac{1-\\varepsilon_t}{\\varepsilon_t}} \\\\\n",
    "&= 2 \\sqrt{\\varepsilon_t(1-\\varepsilon_t)}\n",
    "\\end{align}\n",
    "$"
   ]
  },
  {
   "cell_type": "markdown",
   "metadata": {},
   "source": [
    "### 6) Proof of $Z_t$ inequality:"
   ]
  },
  {
   "cell_type": "markdown",
   "metadata": {},
   "source": [
    "$\n",
    "\\begin{align}\n",
    "Z_t &= 2 \\sqrt{\\varepsilon_t(1-\\varepsilon_t)} \\\\\n",
    "&= 2 \\sqrt{(\\frac{1}{2} - \\gamma_t)(\\frac{1}{2} + \\gamma_t)} \\\\\n",
    "&= \\sqrt{1 - 4 \\gamma_t^2} \\\\\n",
    "&= \\sqrt{(1 - 2 \\gamma_t^2)^2 - (2 \\gamma_t^2)^2} \\\\\n",
    "&\\leq \\sqrt{(1 - 2 \\gamma_t^2)^2} = 1 - 2 \\gamma_t^2 \\\\\n",
    "&\\leq \\mathrm{exp} (-2\\gamma_t^2) \\\\\n",
    "\\end{align}\n",
    "$"
   ]
  },
  {
   "cell_type": "markdown",
   "metadata": {},
   "source": [
    "Therefore, with the conclusion proven above, \n",
    "\n",
    "$\\varepsilon_{training} \\leq \\prod_{t}^{} Z_t \\leq \\mathrm{exp} (-2 \\sum_{t}^{} \\gamma_t^2)$"
   ]
  },
  {
   "cell_type": "markdown",
   "metadata": {},
   "source": [
    "### 7) Argument about the existence of $\\varepsilon_t \\leq 0.5$:"
   ]
  },
  {
   "cell_type": "markdown",
   "metadata": {},
   "source": [
    "If a weak classifier $h_t$ with an error rate $\\varepsilon_t$ above $0.5$ exists, then we only need to change the prediction to the opposite so that the incorrect and the correct get flipped for a better classifier under the context of binary output. At this time, the alterred classifier will have an error rate of $1-\\varepsilon_t$ which is below 0.5. In each boosting round, only the the best classifier with the lowest error rate will be chosen. Therefore, the training error in this round will be below $0.5$. In other words, the final training error in each round ia always less than $0.5$."
   ]
  },
  {
   "cell_type": "markdown",
   "metadata": {},
   "source": [
    "### 8) Argument about $\\varepsilon_t = 0.5$ at the stuck point: "
   ]
  },
  {
   "cell_type": "markdown",
   "metadata": {},
   "source": [
    "When $\\varepsilon_t = 0.5$, \n",
    "The $\\alpha_t$ minimizing the error in the boosting round will be $\\frac{1}{2} ln (\\frac{1-0.5}{0.5}) = 0$, and the nomalizer $Z_t$ will be $2 \\sqrt{0.5(1-0.5)}=1$, \n",
    "\n",
    "e.g. the new distribution $D_{t+1}(i) = 1* D_t(i) \\; \\mathrm{exp}(- 2-0 * y_i h_t(\\mathrm{x}_i)) = D_t(i)$\n",
    "\n",
    "At this time, the distribution has no change and the boosting round gets stopped. Therefore, the training error will also get \"stuck\" with no decrease at this time. "
   ]
  },
  {
   "cell_type": "markdown",
   "metadata": {},
   "source": [
    "## 3. AdaBoost on a Toy Dataset"
   ]
  },
  {
   "cell_type": "markdown",
   "metadata": {},
   "source": [
    "### 1) Boosting rounds with $T=4$: "
   ]
  },
  {
   "cell_type": "markdown",
   "metadata": {},
   "source": [
    "#### $t=1$: \n",
    "\n",
    "$\n",
    "\\begin{align}\n",
    "D_1 &= [0.25, 0.25, 0.25, 0.25] \\\\\n",
    "h_1 &= [-1, -1, +1, -1] \\\\\n",
    "\\varepsilon_1 &= 1/4 \\\\\n",
    "&= 0.25 \\\\\n",
    "\\alpha_1 &= \\frac{1}{2} ln (\\frac{1-0.25}{0.25}) \\\\\n",
    "&= 0.5493 \\\\\n",
    "Z_1 &= 2 \\sqrt{0.25(1-0.25)} \\\\\n",
    "&= 0.866 \\\\\n",
    "\\end{align}\n",
    "$"
   ]
  },
  {
   "cell_type": "markdown",
   "metadata": {},
   "source": [
    "#### $t=2$: \n",
    "\n",
    "$\n",
    "D_2 = \n",
    "\\begin{bmatrix}\n",
    "\\frac{1}{Z_1} D_1(1) \\; \\mathrm{exp}(- \\alpha_1 y_1 h_1(\\mathrm{x}_1)) = 0.1667\\\\\n",
    "\\frac{1}{Z_1} D_1(2) \\; \\mathrm{exp}(- \\alpha_1 y_2 h_1(\\mathrm{x}_2)) = 0.5\\\\\n",
    "\\frac{1}{Z_1} D_1(3) \\; \\mathrm{exp}(- \\alpha_1 y_3 h_1(\\mathrm{x}_3)) = 0.1667\\\\\n",
    "\\frac{1}{Z_1} D_1(4) \\; \\mathrm{exp}(- \\alpha_1 y_4 h_1(\\mathrm{x}_4)) = 0.1667\n",
    "\\end{bmatrix}\n",
    "$\n",
    "\n",
    "$\n",
    "\\begin{align}\n",
    "h_2 &= [1, 1, 1, -1] \\\\\n",
    "\\varepsilon_2 &= \\sum_{i=1}^{4}  D_2(i) \\mathbb{1}(H(\\mathrm{x}_i)\\neq y_i) \\\\\n",
    "&= 0.1667 \\\\\n",
    "\\alpha_2 &= \\frac{1}{2} ln (\\frac{1-0.1667}{0.1667}) \\\\\n",
    "&= 0.8047 \\\\\n",
    "Z_2 &= 2 \\sqrt{0.1667(1-0.1667)} \\\\\n",
    "&= 0.7454 \\\\\n",
    "\\end{align}\n",
    "$"
   ]
  },
  {
   "cell_type": "markdown",
   "metadata": {},
   "source": [
    "#### $t=3$: \n",
    "\n",
    "$\n",
    "D_3 = \n",
    "\\begin{bmatrix}\n",
    "\\frac{1}{Z_2} D_2(1) \\; \\mathrm{exp}(- \\alpha_2 y_1 h_2(\\mathrm{x}_1)) = 0.5\\\\\n",
    "\\frac{1}{Z_2} D_2(2) \\; \\mathrm{exp}(- \\alpha_2 y_2 h_2(\\mathrm{x}_2)) = 0.3\\\\\n",
    "\\frac{1}{Z_2} D_2(3) \\; \\mathrm{exp}(- \\alpha_2 y_3 h_2(\\mathrm{x}_3)) = 0.1\\\\\n",
    "\\frac{1}{Z_2} D_2(4) \\; \\mathrm{exp}(- \\alpha_2 y_4 h_2(\\mathrm{x}_4)) = 0.1\n",
    "\\end{bmatrix}\n",
    "$\n",
    "\n",
    "$\n",
    "\\begin{align}\n",
    "h_3 &= [-1, 1, -1, -1] \\\\\n",
    "\\varepsilon_3 &= \\sum_{i=1}^{4}  D_3(i) \\mathbb{1}(H(\\mathrm{x}_i)\\neq y_i) \\\\\n",
    "&= 0.1 \\\\\n",
    "\\alpha_3 &= \\frac{1}{2} ln (\\frac{1-0.1}{0.1}) \\\\\n",
    "&= 1.0986 \\\\\n",
    "Z_3 &= 2 \\sqrt{0.1(1-0.1)} \\\\\n",
    "&= 0.6 \\\\\n",
    "\\end{align}\n",
    "$"
   ]
  },
  {
   "cell_type": "markdown",
   "metadata": {},
   "source": [
    "#### $t=4$: \n",
    "\n",
    "$\n",
    "D_4 = \n",
    "\\begin{bmatrix}\n",
    "\\frac{1}{Z_3} D_3(1) \\; \\mathrm{exp}(- \\alpha_3 y_1 h_2(\\mathrm{x}_1)) = 0.2778\\\\\n",
    "\\frac{1}{Z_3} D_3(2) \\; \\mathrm{exp}(- \\alpha_3 y_2 h_2(\\mathrm{x}_2)) = 0.1667\\\\\n",
    "\\frac{1}{Z_3} D_3(3) \\; \\mathrm{exp}(- \\alpha_3 y_3 h_2(\\mathrm{x}_3)) = 0.5\\\\\n",
    "\\frac{1}{Z_3} D_3(4) \\; \\mathrm{exp}(- \\alpha_3 y_4 h_2(\\mathrm{x}_4)) = 0.0556\n",
    "\\end{bmatrix}\n",
    "$\n",
    "\n",
    "$\n",
    "\\begin{align}\n",
    "h_4 &= [-1, 1, 1, -1] \\\\\n",
    "\\varepsilon_4 &= \\sum_{i=1}^{4}  D_4(i) \\mathbb{1}(H(\\mathrm{x}_i)\\neq y_i) \\\\\n",
    "&= 0.0556 \\\\\n",
    "\\alpha_4 &= \\frac{1}{2} ln (\\frac{1-0.0556}{0.0556}) \\\\\n",
    "&= 1.4166 \\\\\n",
    "Z_4 &= 2 \\sqrt{0.0556(1-0.0556)} \\\\\n",
    "&= 0.4581 \\\\\n",
    "\\end{align}\n",
    "$"
   ]
  },
  {
   "cell_type": "markdown",
   "metadata": {},
   "source": [
    "### 2) Training error with $T=4$: "
   ]
  },
  {
   "cell_type": "markdown",
   "metadata": {},
   "source": [
    "$\n",
    "H(\\mathrm{x}) = \n",
    "\\begin{bmatrix}\n",
    "\\sum \\alpha_t h_t(\\mathrm{x}_1) = -2.3\\\\\n",
    "\\sum \\alpha_t h_t(\\mathrm{x}_2) = 2.8\\\\\n",
    "\\sum \\alpha_t h_t(\\mathrm{x}_3) = 1.7\\\\\n",
    "\\sum \\alpha_t h_t(\\mathrm{x}_4) = -3.9\n",
    "\\end{bmatrix}\n",
    "$\n",
    "\n",
    "$f(\\mathrm{x}) = \\mathrm{sign}(H(\\mathrm{x})) = [-1, 1, 1, -1]$\n",
    "\n",
    "After comparing with the original label $[-1, 1, 1, -1]$, we get all correct classificaiton. Therefore, the training error is 0."
   ]
  },
  {
   "cell_type": "markdown",
   "metadata": {},
   "source": [
    "### 3) Explanation on AdaBoost's greatness:"
   ]
  },
  {
   "cell_type": "markdown",
   "metadata": {},
   "source": [
    "From the Figure 1a, we can see that all \"+\" are at the edge and all \"-\" are in the middle. Therefore, it can't be classified with a simple linear seperation. With AdaBoost, the classification process can take multiple rounds and each round will produce a classifier with a corresponding weight distribution. The final classification will be based on the combination of all information (a.k.a all weight distributions) so that a nonlinear classification boundary will be provided. "
   ]
  }
 ],
 "metadata": {
  "kernelspec": {
   "display_name": "Python 3",
   "language": "python",
   "name": "python3"
  },
  "language_info": {
   "codemirror_mode": {
    "name": "ipython",
    "version": 3
   },
   "file_extension": ".py",
   "mimetype": "text/x-python",
   "name": "python",
   "nbconvert_exporter": "python",
   "pygments_lexer": "ipython3",
   "version": "3.7.4"
  }
 },
 "nbformat": 4,
 "nbformat_minor": 2
}
