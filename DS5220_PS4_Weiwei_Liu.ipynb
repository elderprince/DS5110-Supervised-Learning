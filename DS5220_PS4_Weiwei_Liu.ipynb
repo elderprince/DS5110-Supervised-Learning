{
 "cells": [
  {
   "cell_type": "markdown",
   "metadata": {},
   "source": [
    "# DS 5220 Problem Set 4: \n",
    "# Support Vector Machines (Spring 2021)\n",
    "**Instructor:** Roi Yehoshua\n",
    "<br>\n",
    "**Student name:** Weiwei Liu (001404153)\n",
    "<br>"
   ]
  },
  {
   "cell_type": "markdown",
   "metadata": {},
   "source": [
    "## 1. SVM on a Toy Dataset"
   ]
  },
  {
   "cell_type": "markdown",
   "metadata": {},
   "source": [
    "### (1) Can this data set (in its current feature space) be perfectly separated using a linear separator? \n",
    "In this dataset, 3 positive samples are distributed on two edges and 3 negative samples are in the middle. No matter drawing a seperator between -1 and -2, or between 1 and 3, there's always at least 1 misclassified sample. Therefore, there's no perfect linear separator existing to divide all samples into two classes with no error. "
   ]
  },
  {
   "cell_type": "markdown",
   "metadata": {},
   "source": [
    "### (2) Transforms points in $\\mathbb{R}$ to points in $\\mathbb{R}^2$:\n",
    "**Positive points:**\n",
    "\n",
    "$\n",
    "x = \\left\\{−3, −2, 3\\right\\}\\\\\n",
    "\\phi(x) = (x, x^2) = \\left\\{(-3, 9), (2, 4), (3, 9)\\right\\}\n",
    "$\n",
    "\n",
    "**Negative points:**\n",
    "\n",
    "$\n",
    "x = \\left\\{−1, 0, 1\\right\\}\\\\\n",
    "\\phi(x) = (x, x^2) = \\left\\{(-1, 1), (0, 0), (1, 1)\\right\\}\n",
    "$"
   ]
  },
  {
   "cell_type": "code",
   "execution_count": 6,
   "metadata": {},
   "outputs": [
    {
     "data": {
      "image/png": "[encoded data removed]",
      "text/plain": [
       "<Figure size 345.6x388.8 with 1 Axes>"
      ]
     },
     "metadata": {
      "needs_background": "light"
     },
     "output_type": "display_data"
    }
   ],
   "source": [
    "# Plot new feature space after trasforming\n",
    "\n",
    "import matplotlib.pyplot as plt\n",
    "\n",
    "pos_x = [-3, -2, 3]\n",
    "pos_y = [9, 4, 9]\n",
    "neg_x = [-1, 0, 1]\n",
    "neg_y = [1, 0, 1]\n",
    "\n",
    "plt.figure(figsize=(4.8, 5.4))\n",
    "plt.plot(pos_x, pos_y, 'r+', mew=3, ms=10)\n",
    "plt.plot(neg_x, neg_y, 'b_', mew=3, ms=10)\n",
    "plt.yticks(list(range(10)))\n",
    "plt.xlim(-4, 4);"
   ]
  },
  {
   "cell_type": "markdown",
   "metadata": {},
   "source": [
    "### (3) Can a linear separator perfectly separate the points in the new $\\mathbb{R}^2$ feature space? \n",
    "From the plot above, positive and negative points are clearly located at two sides. A clear gap between two classes represents an existance of a perfect linear separator seperating points in the new $\\mathbb{R}^2$ feature space with no incorrect classification.  "
   ]
  },
  {
   "cell_type": "markdown",
   "metadata": {},
   "source": [
    "### (4) Analytic form of the kernel:\n",
    "$\n",
    "\\begin{align}\n",
    "k(x, x') &= \\phi(x)^T \\phi(x')\\\\\n",
    "&= \\left(\n",
    "    \\begin{array}{c}\n",
    "      x \\\\\n",
    "      x^2\n",
    "    \\end{array}\n",
    "  \\right)^T \\left(\n",
    "    \\begin{array}{c}\n",
    "      x' \\\\\n",
    "      x'^2\n",
    "    \\end{array}\n",
    "  \\right)\\\\\n",
    "&= xx' + x^2 x'^2\\\\\n",
    "&= xx'(1 + xx')\n",
    "\\end{align}\n",
    "$"
   ]
  },
  {
   "cell_type": "markdown",
   "metadata": {},
   "source": [
    "### (5) Construct a maximum-margin separating hyperplane: \n",
    "According to the concept of margin $\\gamma$, two points respectively from two classes should be targetted first: (-1, 1) and (-2, 4). In order to maximize $\\gamma$, the hyperplane must pass the center point of the line linking these two points, which is (-1.5, 2.5), and must be perpendicular with the line passing through these two points, e. g. the hyperplane is perpendicular with vector (-1, 3). \n",
    "\n",
    "Therefore, $z_2 = \\frac{1}{3}z_1 + 3$, \n",
    "\n",
    "e. g. $z_1 - 3z_2 + 9 = 0$.\n",
    "\n",
    "The margin is $\\frac{\\sqrt{(-2-(-1))^2 + (4-1)^2}}{2}=\\frac{\\sqrt{10}}{2}$"
   ]
  },
  {
   "cell_type": "markdown",
   "metadata": {},
   "source": [
    "### (6) Plot the separating hyperplane and the margin: "
   ]
  },
  {
   "cell_type": "code",
   "execution_count": 7,
   "metadata": {},
   "outputs": [
    {
     "data": {
      "image/png": "[encoded data removed]",
      "text/plain": [
       "<Figure size 345.6x388.8 with 1 Axes>"
      ]
     },
     "metadata": {
      "needs_background": "light"
     },
     "output_type": "display_data"
    }
   ],
   "source": [
    "# Plot seperated hyperplane in new feature\n",
    "\n",
    "import numpy as np\n",
    "\n",
    "pos_x = [-3, -2, 3]\n",
    "pos_y = [9, 4, 9]\n",
    "neg_x = [-1, 0, 1]\n",
    "neg_y = [1, 0, 1]\n",
    "\n",
    "x_h = np.linspace(-4, 4, 100)\n",
    "y_h = 1/3*x_h + 3\n",
    "x_1 = np.linspace(-4, 4, 100)\n",
    "y_1 = 1/3*x_1 + 14/3\n",
    "x_2 = np.linspace(-4, 4, 100)\n",
    "y_2 = 1/3*x_2 + 4/3\n",
    "x_m = np.linspace(-2, -1, 100)\n",
    "y_m = -3*x_m -2\n",
    "\n",
    "plt.figure(figsize=(4.8, 5.4))\n",
    "plt.plot(pos_x, pos_y, 'r+', mew=3, ms=10)\n",
    "plt.plot(neg_x, neg_y, 'b_', mew=3, ms=10)\n",
    "plt.plot(x_h, y_h, 'k-', lw=3, label='Hyperplane')\n",
    "plt.plot(x_1, y_1, 'y--')\n",
    "plt.plot(x_2, y_2, 'y--')\n",
    "plt.plot(x_m, y_m, '-', lw=3, label='2x Margin')\n",
    "plt.plot([-1, -2], [1, 4], 'ro', \n",
    "         mew=3, ms=20, mfc='None', \n",
    "         label='Support Vectors')\n",
    "\n",
    "plt.yticks(list(range(10)))\n",
    "plt.yticks(list(range(10)))\n",
    "plt.xlim(-4, 4)\n",
    "plt.legend(loc='best');"
   ]
  },
  {
   "cell_type": "markdown",
   "metadata": {},
   "source": [
    "### (7) Draw the decision boundary of the separating hyperplane in the original feature space: "
   ]
  },
  {
   "cell_type": "code",
   "execution_count": 8,
   "metadata": {},
   "outputs": [
    {
     "data": {
      "image/png": "[encoded data removed]",
      "text/plain": [
       "<Figure size 576x36 with 1 Axes>"
      ]
     },
     "metadata": {
      "needs_background": "light"
     },
     "output_type": "display_data"
    }
   ],
   "source": [
    "# Plot separating hyperplanes in the original feature space\n",
    "\n",
    "pos_x = [-3, -2, 3]\n",
    "neg_x = [-1, 0, 1]\n",
    "axis_y = [0, 0, 0]\n",
    "\n",
    "plt.figure(figsize=(8, 0.5))\n",
    "plt.plot(pos_x, axis_y, 'r+', mew=3, ms=10)\n",
    "plt.plot(neg_x, axis_y, 'b_', mew=3, ms=10)\n",
    "plt.axvline(-1.5, color='black')\n",
    "plt.axvline(2, color='black')\n",
    "plt.yticks([]);"
   ]
  },
  {
   "cell_type": "markdown",
   "metadata": {},
   "source": [
    "### (8) Compute the coefficients $\\alpha$ and the constant $b$: \n",
    "According to SVM dual problem, \n",
    "\n",
    "the function we need to maximize is $L = \\displaystyle\\sum_{i=1}^{n} \\alpha_i - \\frac{1}{2} \\displaystyle\\sum_{i=1}^{n} \\displaystyle\\sum_{j=1}^{n} \\alpha_i \\alpha_j \\mathbf{x}_i^T \\mathbf{x}_j$. \n",
    "\n",
    "<br/>\n",
    "\n",
    "Since $SV = \\left\\{\\mathbf{u}_1 = (-2, 4), \\mathbf{u}_2 = (-1, 1)\\right\\}$, $y_1 = 1, y_2 = -1$, \n",
    "\n",
    "$\n",
    "\\begin{align}\n",
    "L &= \\alpha_1 + \\alpha_2 - \\frac{1}{2} (\\alpha_1^2(\\mathbf{u}_1 \\cdot \\mathbf{u}_1) + \\alpha_2^2(\\mathbf{u}_2 \\cdot \\mathbf{u}_2) - 2\\alpha_1\\alpha_2(\\mathbf{u}_1 \\cdot \\mathbf{u}_2))\\\\\n",
    "&= \\alpha_1 + \\alpha_2 - \\frac{1}{2} (20 \\alpha_1^2 + 2 \\alpha_2^2 - 12\\alpha_1\\alpha_2)\n",
    "\\end{align}\n",
    "$\n",
    "\n",
    "<br/>\n",
    "\n",
    "According to the constraint $\\alpha_i \\geq 0, \\displaystyle\\sum_{i=1}^{n} \\alpha_i y_i = 0$, \n",
    "\n",
    "we can get $\\alpha_1 - \\alpha_2 = 0$, e. g. $\\alpha_1 = \\alpha_2 = \\alpha$. \n",
    "\n",
    "e. g. $L = \\alpha + \\alpha - \\frac{1}{2} (20 \\alpha^2 + 2 \\alpha^2 - 12\\alpha^2) = 2\\alpha - 5\\alpha^2$\n",
    "\n",
    "<br/>\n",
    "\n",
    "After taking the derivative of $L$ and set it to 0, \n",
    "\n",
    "we can get $\\frac{\\mathrm d}{\\mathrm d \\alpha} (2\\alpha - 5\\alpha^2) = 2 - 10\\alpha = 0$, \n",
    "\n",
    "e. g. $\\alpha_1 = \\alpha_2 = \\alpha = 0.2$\n",
    "\n",
    "<br/>\n",
    "\n",
    "Plug $\\alpha$ and make Equation (1) for positive margin of 1, \n",
    "\n",
    "$\\displaystyle\\sum_{i=1}^{|SV|} \\alpha_i y_i k(\\mathbf{x}, \\mathbf{u}_i) + b = 1$, \n",
    "\n",
    "e. g. $b = -1.8$"
   ]
  },
  {
   "cell_type": "markdown",
   "metadata": {},
   "source": [
    "### (9) What if adding a new positive point at $x = 5$: \n",
    "The hyperplane will be same since the additional point is far away from the hyperplan and can be classified correctly. So no change will happen after adding this new point. "
   ]
  },
  {
   "cell_type": "markdown",
   "metadata": {},
   "source": [
    "<br/>\n",
    "<br/>\n",
    "<br/>\n",
    "<br/>\n",
    "<br/>\n",
    "<br/>"
   ]
  },
  {
   "cell_type": "markdown",
   "metadata": {},
   "source": [
    "## 2. Constructing Kernels"
   ]
  },
  {
   "cell_type": "markdown",
   "metadata": {},
   "source": [
    "### (1) $k(x, x') = ck_1(x, x')$ for $c > 0$: \n",
    "Since $k_1(x, x')$ is a valid kernel, \n",
    "\n",
    "its kernel matrix $K_1$ is a positive semi-definite matrix, \n",
    "\n",
    "e. g. $\\mathbf{u}^T K_1 \\mathbf{u} \\geq 0$. \n",
    "\n",
    "<br/>\n",
    "\n",
    "If $\\mathbf{u'} = \\sqrt{c} \\mathbf{u}$, $\\mathbf{u'}^T = (\\sqrt{c} \\mathbf{u})^T = \\sqrt{c} \\mathbf{u}^T$, \n",
    "\n",
    "$\n",
    "\\begin{align}\n",
    "\\mathbf{u}^T c K_1 \\mathbf{u} &= \\sqrt{c} \\mathbf{u}^T K_1 \\sqrt{c} \\mathbf{u}\\\\\n",
    "&= \\mathbf{u'}^T K_1 \\mathbf{u'} \\geq 0\n",
    "\\end{align}\n",
    "$\n",
    "\n",
    "e.g. $K = cK_1$ is a positive semi-definite matrix. \n",
    "\n",
    "<br/>\n",
    "\n",
    "According to the symmetry propety of $k_1(x, x')$, \n",
    "\n",
    "$k_1(x, x') = k_1(x', x)$, $k(x, x') = ck_1(x, x') = ck_1(x', x) = k(x', x)$, \n",
    "\n",
    "e. g. $k(x, x') = ck_1(x, x')$ also has the symmetry property.\n",
    "\n",
    "<br/>\n",
    "\n",
    "Therefore, $k(x, x') = ck_1(x, x')$ for $c > 0$ is a valid kernel with $K = cK_1$ as its kernel matrix. "
   ]
  },
  {
   "cell_type": "markdown",
   "metadata": {},
   "source": [
    "### (2) $k(x, x') = k_1(x, x') + k_2(x, x')$: \n",
    "Since $k_1(x, x'), k_2(x, x')$ are valid kernels, \n",
    "\n",
    "their kernel matrix $K_1, K_2$ are positive semi-definite matrices with same size when inputting a same data set, \n",
    "\n",
    "e. g. $\\mathbf{u}^T K_1 \\mathbf{u} \\geq 0, \\mathbf{u}^T K_2 \\mathbf{u} \\geq 0$, and $K_1$ and $K_2$ can be added. \n",
    "\n",
    "<br/>\n",
    "\n",
    "So, $\\mathbf{u}^T (K_1 + K_2) \\mathbf{u} = \\mathbf{u}^T K_1 \\mathbf{u} + \\mathbf{u}^T K_2 \\mathbf{u} \\geq 0$, \n",
    "\n",
    "e. g. $K = K_1 + K_2$ is a positive semi-definite matrix. \n",
    "\n",
    "<br/>\n",
    "\n",
    "According to the symmetry propety of $k_1(x, x'), k_2(x, x')$, \n",
    "\n",
    "$k(x, x') = k_1(x, x') + k_2(x, x') = k_1(x', x) + k_2(x', x) = k(x', x)$, \n",
    "\n",
    "e. g. $k(x, x') = k_1(x, x') + k_2(x, x')$ also has the symmetry property.\n",
    "\n",
    "<br/>\n",
    "\n",
    "Therefore, $k(x, x') = k_1(x, x') + k_2(x, x')$ is a valid kernel with $K = K_1 + K_2$ as its kernel matrix."
   ]
  },
  {
   "cell_type": "markdown",
   "metadata": {},
   "source": [
    "### (3) $k(x, x') = k_1(x, x')k_2(x, x')$:\n",
    "Since $k_1(x, x'), k_2(x, x')$ are valid kernels, they both have the property of symmetry, \n",
    "\n",
    "e. g. $k_1(x, x') = k_1(x', x), k_2(x, x') = k_2(x', x)$, \n",
    "\n",
    "e. g. k(x, x') = k_1(x, x')k_2(x, x') = k_1(x', x)k_2(x', x) = k(x', x). \n",
    "\n",
    "So, $k(x, x') = k_1(x, x')k_2(x, x')$ also has the symmetry property. \n",
    "\n",
    "<br/>\n",
    "\n",
    "From the symmetry property of $k(x, x')$, we can know that matrix $K_1 K_2$ is symmetric, \n",
    "\n",
    "e. g. $(K_1 K_2)^T K_1 K_2 = K_1 K_2 (K_1 K_2)^T$\n",
    "\n",
    "e. g. $K_1 K_2$ is a normal matrix. \n",
    "\n",
    "According to *On a product of positive semidefinite matrices* written by A.R. Meenakshi and C. Rajian, $K = K_1 K_2$ is a positive semi-definite matrix based on the statement that $K_1, K_2$ are positive semidefinite matrices, and $K_1 K_2$ is a normal matrix. \n",
    "\n",
    "<br/>\n",
    "\n",
    "Therefore, $k(x, x') = k_1(x, x')k_2(x, x')$ is a valid kernel with $K = K_1 K_2$ as its kernel matrix.\n",
    "\n",
    "<br/>\n",
    "\n",
    "**Reference:** On a product of positive semidefinite matrices, A.R. Meenakshi, C. Rajian, \n",
    "\n",
    "Linear Algebra and its Applications, Volume 295, Issues 1–3, 1 July 1999, Pages 3–6."
   ]
  },
  {
   "cell_type": "markdown",
   "metadata": {},
   "source": [
    "### (4) $k(x, x') = f(x)k_1(x, x')f(x')$, where $f$ is any function from $\\mathbb{R}^m$ to $\\mathbb{R}$: \n",
    "Since f(x) is a function from $\\mathbb{R}^m$ to $\\mathbb{R}$, it can be a transformation function $\\phi(x)$, \n",
    "\n",
    "$\n",
    "\\begin{align}\n",
    "k(x, x') &= f(x)k_1(x, x')f(x')\\\\ \n",
    "&= \\phi(x) k_1(x, x') \\phi(x')\n",
    "\\end{align}\n",
    "$\n",
    "\n",
    "<br/>\n",
    "\n",
    "Because $\\mathbf{u} = \\mathbf{u}^T$ if $\\mathbf{u} \\in \\mathbb{R}$,\n",
    "\n",
    "$\n",
    "\\begin{align}\n",
    "\\phi(x) k_1(x, x') \\phi(x') &= \\phi(x)^T k_1(x, x') \\phi(x')\\\\\n",
    "&= (\\phi(x)^T \\phi(x')) k_1(x, x')\n",
    "\\end{align}\n",
    "$\n",
    "\n",
    "<br/>\n",
    "\n",
    "A valid kernel $k_2(x, x')$ can be found for $\\phi(x)^T \\phi(x')$, \n",
    "\n",
    "then, $k(x, x') = f(x)k_1(x, x')f(x') = k_2(x, x') k_1(x, x')$. \n",
    "\n",
    "<br/>\n",
    "\n",
    "Therefore, according to what we have proven in (3), $k(x, x') = f(x)k_1(x, x')f(x')$ is a valid kernel where $f$ is any function from $\\mathbb{R}^m$ to $\\mathbb{R}$. "
   ]
  },
  {
   "cell_type": "markdown",
   "metadata": {},
   "source": [
    "### (5) Proof of writting $exp(xx') (x, x' \\in R)$ with $\\phi(x)^T \\phi(x')$: \n",
    "$\n",
    "\\begin{align}\n",
    "exp(xx') &= \\displaystyle\\sum_{i=0}^{\\infty} \\frac{(xx')^i}{i!}\\\\\n",
    "&= \\displaystyle\\sum_{i=0}^{\\infty} \\frac{x^i x'^i}{i!}\\\\\n",
    "&= \\frac{1}{0!} x^0 x'^0 + \\frac{1}{1!} x^1 x'^1 + \\frac{1}{2!} x^2 x'^2 + \\frac{1}{3!} x^3 x'^3 + \\cdots\n",
    "\\end{align}\n",
    "$\n",
    "\n",
    "In the above summation as $i$ goes from $0$ to infinity, all infinite parts contains the product of $x^i$ and $x'^i$, which can be seen as the inner product of two n-dimension vectors transformed by $\\phi(x)$, e. g. $\\phi(x)^T \\phi(x')$. "
   ]
  },
  {
   "cell_type": "markdown",
   "metadata": {},
   "source": [
    "### (6) Prove the validity of the Gaussian kernel: \n",
    "$\n",
    "\\begin{align}\n",
    "k(x, x') &= exp(\\frac{-||\\mathbf{x}-\\mathbf{x}'||^2}{2\\sigma^2})\\\\\n",
    "&= exp(-\\frac{\\mathbf{x}^T\\mathbf{x}}{2\\sigma^2}) exp(-\\frac{\\mathbf{x}'^T\\mathbf{x}'}{2\\sigma^2}) exp(\\frac{\\mathbf{x}^T\\mathbf{x}'}{\\sigma^2})\\\\\n",
    "\\end{align}\n",
    "$\n",
    "\n",
    "<br/>\n",
    "\n",
    "From (5), we have known that $exp(xx') (x, x' \\in R)$ can be written with $\\phi(x)^T \\phi(x')$, e. g. there's a valid kernel for it. Therefore, a valid kernel $k_1(\\mathbf{x}, \\mathbf{x}')$ exist for $exp(\\frac{\\mathbf{x}^T\\mathbf{x}'}{\\sigma^2})$, which is the third part in the above. \n",
    "\n",
    "<br/>\n",
    "\n",
    "Since the first parts in the above $exp(-\\frac{\\mathbf{x}^T\\mathbf{x}}{2\\sigma^2})$ and $exp(-\\frac{\\mathbf{x}'^T\\mathbf{x}'}{2\\sigma^2})$ can be regarded as a function $f(\\mathbf{x})$ transforming $\\mathbf{x}$ and $\\mathbf{x}'$ respectively from $\\mathbb{R}^m$ to $\\mathbb{R}$, the above equality can be written into $k(x, x') = exp(\\frac{-||\\mathbf{x}-\\mathbf{x}'||^2}{2\\sigma^2}) = f(\\mathbf{x})k_1(\\mathbf{x}, \\mathbf{x}')f(\\mathbf{x}')$ which has been proven as a valid kernel in (3). \n",
    "\n",
    "<br/>\n",
    "\n",
    "Therefore, Gaussian kernel is a valid kernel. "
   ]
  }
 ],
 "metadata": {
  "kernelspec": {
   "display_name": "Python 3",
   "language": "python",
   "name": "python3"
  },
  "language_info": {
   "codemirror_mode": {
    "name": "ipython",
    "version": 3
   },
   "file_extension": ".py",
   "mimetype": "text/x-python",
   "name": "python",
   "nbconvert_exporter": "python",
   "pygments_lexer": "ipython3",
   "version": "3.7.4"
  }
 },
 "nbformat": 4,
 "nbformat_minor": 2
}
